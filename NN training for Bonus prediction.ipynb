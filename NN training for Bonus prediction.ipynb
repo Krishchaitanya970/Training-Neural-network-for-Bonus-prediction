{
 "cells": [
  {
   "cell_type": "markdown",
   "id": "1a1b5d66",
   "metadata": {},
   "source": [
    "<h2 style=\"align:center\">DL : Simple NN training for Bonus prediction</h2>"
   ]
  },
  {
   "cell_type": "markdown",
   "id": "fd1297d1",
   "metadata": {},
   "source": [
    "For employee's bonus dataset, implement Neural Network in PyTorch to find optimal values of weights that decides the bonus amount."
   ]
  },
  {
   "cell_type": "markdown",
   "id": "f0df88f5",
   "metadata": {},
   "source": [
    "Load the dataset"
   ]
  },
  {
   "cell_type": "code",
   "execution_count": 56,
   "id": "32415f5d",
   "metadata": {},
   "outputs": [
    {
     "data": {
      "text/html": [
       "<div>\n",
       "<style scoped>\n",
       "    .dataframe tbody tr th:only-of-type {\n",
       "        vertical-align: middle;\n",
       "    }\n",
       "\n",
       "    .dataframe tbody tr th {\n",
       "        vertical-align: top;\n",
       "    }\n",
       "\n",
       "    .dataframe thead th {\n",
       "        text-align: right;\n",
       "    }\n",
       "</style>\n",
       "<table border=\"1\" class=\"dataframe\">\n",
       "  <thead>\n",
       "    <tr style=\"text-align: right;\">\n",
       "      <th></th>\n",
       "      <th>employee_id</th>\n",
       "      <th>performance</th>\n",
       "      <th>years_of_experience</th>\n",
       "      <th>projects_completed</th>\n",
       "      <th>bonus</th>\n",
       "    </tr>\n",
       "  </thead>\n",
       "  <tbody>\n",
       "    <tr>\n",
       "      <th>0</th>\n",
       "      <td>EMP_001</td>\n",
       "      <td>7</td>\n",
       "      <td>1</td>\n",
       "      <td>3</td>\n",
       "      <td>116</td>\n",
       "    </tr>\n",
       "    <tr>\n",
       "      <th>1</th>\n",
       "      <td>EMP_002</td>\n",
       "      <td>4</td>\n",
       "      <td>8</td>\n",
       "      <td>10</td>\n",
       "      <td>136</td>\n",
       "    </tr>\n",
       "    <tr>\n",
       "      <th>2</th>\n",
       "      <td>EMP_003</td>\n",
       "      <td>8</td>\n",
       "      <td>4</td>\n",
       "      <td>5</td>\n",
       "      <td>150</td>\n",
       "    </tr>\n",
       "    <tr>\n",
       "      <th>3</th>\n",
       "      <td>EMP_004</td>\n",
       "      <td>5</td>\n",
       "      <td>4</td>\n",
       "      <td>7</td>\n",
       "      <td>118</td>\n",
       "    </tr>\n",
       "    <tr>\n",
       "      <th>4</th>\n",
       "      <td>EMP_005</td>\n",
       "      <td>7</td>\n",
       "      <td>5</td>\n",
       "      <td>6</td>\n",
       "      <td>146</td>\n",
       "    </tr>\n",
       "  </tbody>\n",
       "</table>\n",
       "</div>"
      ],
      "text/plain": [
       "  employee_id  performance  years_of_experience  projects_completed  bonus\n",
       "0     EMP_001            7                    1                   3    116\n",
       "1     EMP_002            4                    8                  10    136\n",
       "2     EMP_003            8                    4                   5    150\n",
       "3     EMP_004            5                    4                   7    118\n",
       "4     EMP_005            7                    5                   6    146"
      ]
     },
     "execution_count": 56,
     "metadata": {},
     "output_type": "execute_result"
    }
   ],
   "source": [
    "import pandas as pd\n",
    "from matplotlib import pyplot as plt\n",
    "\n",
    "# Step 1: Read the dataset from the CSV file\n",
    "df = pd.read_csv('bonus.csv')\n",
    "df.head()"
   ]
  },
  {
   "cell_type": "code",
   "execution_count": 57,
   "id": "5eb32af3",
   "metadata": {},
   "outputs": [
    {
     "data": {
      "text/plain": [
       "(1000, 5)"
      ]
     },
     "execution_count": 57,
     "metadata": {},
     "output_type": "execute_result"
    }
   ],
   "source": [
    "df.shape"
   ]
  },
  {
   "cell_type": "code",
   "execution_count": 58,
   "id": "07eaec80",
   "metadata": {},
   "outputs": [],
   "source": [
    "from sklearn.model_selection import train_test_split\n",
    "\n",
    "# separate features and target\n",
    "X = df[['performance', 'years_of_experience', 'projects_completed']].values\n",
    "y = df[['bonus']].values  # double square brackets to get 2D array\n",
    "\n",
    "# split data into train and test sets\n",
    "X_train, X_test, y_train, y_test = train_test_split(X, y, test_size=0.2, random_state=0)\n"
   ]
  },
  {
   "cell_type": "markdown",
   "id": "464ffc28",
   "metadata": {},
   "source": [
    "Train a Neural network"
   ]
  },
  {
   "cell_type": "code",
   "execution_count": 59,
   "id": "cccd3db8",
   "metadata": {},
   "outputs": [],
   "source": [
    "import torch\n",
    "import torch.nn as nn\n",
    "import torch.optim as optimizer"
   ]
  },
  {
   "cell_type": "code",
   "execution_count": 60,
   "id": "45c17122",
   "metadata": {},
   "outputs": [
    {
     "data": {
      "text/plain": [
       "(800, 3)"
      ]
     },
     "execution_count": 60,
     "metadata": {},
     "output_type": "execute_result"
    }
   ],
   "source": [
    "X_train.shape"
   ]
  },
  {
   "cell_type": "code",
   "execution_count": 61,
   "id": "5e55adba",
   "metadata": {},
   "outputs": [
    {
     "data": {
      "text/plain": [
       "(200, 3)"
      ]
     },
     "execution_count": 61,
     "metadata": {},
     "output_type": "execute_result"
    }
   ],
   "source": [
    "X_test.shape"
   ]
  },
  {
   "cell_type": "code",
   "execution_count": 62,
   "id": "2a9aa5cf",
   "metadata": {},
   "outputs": [],
   "source": [
    "X_train_tensor = torch.tensor(X_train, dtype=torch.float32)\n",
    "y_train_tensor = torch.tensor(y_train, dtype=torch.float32)\n",
    "X_test_tensor = torch.tensor(X_test, dtype=torch.float32)\n",
    "y_test_tensor = torch.tensor(y_test, dtype=torch.float32)"
   ]
  },
  {
   "cell_type": "code",
   "execution_count": 63,
   "id": "c65c001d",
   "metadata": {},
   "outputs": [],
   "source": [
    "class BonusPredictor(nn.Module):\n",
    "    def __init__(self):\n",
    "        super().__init__()\n",
    "        self.network = nn.Sequential(\n",
    "            nn.Linear(3, 1),  # 3 input features -> 1 output neuron\n",
    "        )\n",
    "\n",
    "    def forward(self, x):\n",
    "        return self.network(x)\n"
   ]
  },
  {
   "cell_type": "code",
   "execution_count": 64,
   "id": "37a7865e",
   "metadata": {},
   "outputs": [],
   "source": [
    "model = BonusPredictor()\n",
    "criterion = nn.MSELoss()\n",
    "optimizer = optim.SGD(model.parameters(), lr=0.005)"
   ]
  },
  {
   "cell_type": "code",
   "execution_count": 65,
   "id": "7a481c18",
   "metadata": {},
   "outputs": [
    {
     "name": "stdout",
     "output_type": "stream",
     "text": [
      "Epoch [100/5000], Loss: 21.97\n",
      "Epoch [200/5000], Loss: 19.25\n",
      "Epoch [300/5000], Loss: 16.91\n",
      "Epoch [400/5000], Loss: 14.88\n",
      "Epoch [500/5000], Loss: 13.10\n",
      "Epoch [600/5000], Loss: 11.53\n",
      "Epoch [700/5000], Loss: 10.15\n",
      "Epoch [800/5000], Loss: 8.94\n",
      "Epoch [900/5000], Loss: 7.87\n",
      "Epoch [1000/5000], Loss: 6.93\n",
      "Epoch [1100/5000], Loss: 6.10\n",
      "Epoch [1200/5000], Loss: 5.37\n",
      "Epoch [1300/5000], Loss: 4.73\n",
      "Epoch [1400/5000], Loss: 4.16\n",
      "Epoch [1500/5000], Loss: 3.67\n",
      "Epoch [1600/5000], Loss: 3.23\n",
      "Epoch [1700/5000], Loss: 2.84\n",
      "Epoch [1800/5000], Loss: 2.50\n",
      "Epoch [1900/5000], Loss: 2.20\n",
      "Epoch [2000/5000], Loss: 1.94\n",
      "Epoch [2100/5000], Loss: 1.71\n",
      "Epoch [2200/5000], Loss: 1.50\n",
      "Epoch [2300/5000], Loss: 1.32\n",
      "Epoch [2400/5000], Loss: 1.17\n",
      "Epoch [2500/5000], Loss: 1.03\n",
      "Epoch [2600/5000], Loss: 0.90\n",
      "Epoch [2700/5000], Loss: 0.80\n",
      "Epoch [2800/5000], Loss: 0.70\n",
      "Epoch [2900/5000], Loss: 0.62\n",
      "Epoch [3000/5000], Loss: 0.54\n",
      "Epoch [3100/5000], Loss: 0.48\n",
      "Epoch [3200/5000], Loss: 0.42\n",
      "Epoch [3300/5000], Loss: 0.37\n",
      "Epoch [3400/5000], Loss: 0.33\n",
      "Epoch [3500/5000], Loss: 0.29\n",
      "Epoch [3600/5000], Loss: 0.25\n",
      "Epoch [3700/5000], Loss: 0.22\n",
      "Epoch [3800/5000], Loss: 0.20\n",
      "Epoch [3900/5000], Loss: 0.17\n",
      "Epoch [4000/5000], Loss: 0.15\n",
      "Epoch [4100/5000], Loss: 0.13\n",
      "Epoch [4200/5000], Loss: 0.12\n",
      "Epoch [4300/5000], Loss: 0.10\n",
      "Epoch [4400/5000], Loss: 0.09\n",
      "Epoch [4500/5000], Loss: 0.08\n",
      "Epoch [4600/5000], Loss: 0.07\n",
      "Epoch [4700/5000], Loss: 0.06\n",
      "Epoch [4800/5000], Loss: 0.05\n",
      "Epoch [4900/5000], Loss: 0.05\n",
      "Epoch [5000/5000], Loss: 0.04\n"
     ]
    }
   ],
   "source": [
    "# Training loop\n",
    "epochs = 5000\n",
    "for epoch in range(epochs):\n",
    "    # Forward pass: Compute predicted bonus by passing X_train\n",
    "    predictions = model(X_train_tensor)\n",
    "    loss = criterion(predictions, y_train_tensor)\n",
    "\n",
    "    # Backward pass: Compute gradients\n",
    "    optimizer.zero_grad()\n",
    "    loss.backward()\n",
    "\n",
    "    # Update parameters\n",
    "    optimizer.step()\n",
    "\n",
    "    # Print loss every 100 epochs\n",
    "    if (epoch + 1) % 100 == 0:\n",
    "        print(f\"Epoch [{epoch + 1}/{epochs}], Loss: {loss.item():.2f}\")"
   ]
  },
  {
   "cell_type": "code",
   "execution_count": 66,
   "id": "aba407ee",
   "metadata": {},
   "outputs": [
    {
     "name": "stdout",
     "output_type": "stream",
     "text": [
      "Test Loss: 0.0427\n"
     ]
    }
   ],
   "source": [
    "# Switch to evaluation mode (important for models with dropout/batch norm layers)\n",
    "model.eval()\n",
    "\n",
    "# Disable gradient calculations for evaluation to save memory\n",
    "with torch.no_grad():\n",
    "    test_predictions = model(X_test_tensor)\n",
    "    test_loss = criterion(test_predictions, y_test_tensor)\n",
    "\n",
    "print(f\"Test Loss: {test_loss.item():.4f}\")"
   ]
  },
  {
   "cell_type": "code",
   "execution_count": 67,
   "id": "aae78586",
   "metadata": {},
   "outputs": [
    {
     "data": {
      "text/plain": [
       "tensor([[ 8.,  9., 10.],\n",
       "        [ 9.,  2.,  5.],\n",
       "        [ 3.,  7.,  8.]])"
      ]
     },
     "execution_count": 67,
     "metadata": {},
     "output_type": "execute_result"
    }
   ],
   "source": [
    "X_test_tensor[:3]"
   ]
  },
  {
   "cell_type": "code",
   "execution_count": 68,
   "id": "66620267",
   "metadata": {},
   "outputs": [
    {
     "data": {
      "text/plain": [
       "tensor([[189.9574],\n",
       "        [150.1579],\n",
       "        [113.7272]])"
      ]
     },
     "execution_count": 68,
     "metadata": {},
     "output_type": "execute_result"
    }
   ],
   "source": [
    "test_predictions[:3]"
   ]
  },
  {
   "cell_type": "code",
   "execution_count": 69,
   "id": "2ec7aaf0",
   "metadata": {},
   "outputs": [
    {
     "data": {
      "text/plain": [
       "tensor([[190.],\n",
       "        [150.],\n",
       "        [114.]])"
      ]
     },
     "execution_count": 69,
     "metadata": {},
     "output_type": "execute_result"
    }
   ],
   "source": [
    "y_test_tensor[:3]"
   ]
  },
  {
   "cell_type": "code",
   "execution_count": 70,
   "id": "996742c5",
   "metadata": {},
   "outputs": [
    {
     "name": "stdout",
     "output_type": "stream",
     "text": [
      "Name: network.0.weight, Value: Parameter containing:\n",
      "tensor([[12.0338,  5.8404,  2.1901]], requires_grad=True)\n",
      "Name: network.0.bias, Value: Parameter containing:\n",
      "tensor([19.2222], requires_grad=True)\n"
     ]
    }
   ],
   "source": [
    "for name, value in model.named_parameters():\n",
    "    print(f\"Name: {name}, Value: {value}\")"
   ]
  }
 ],
 "metadata": {
  "kernelspec": {
   "display_name": "Python (PyTorch)",
   "language": "python",
   "name": "torch-env"
  },
  "language_info": {
   "codemirror_mode": {
    "name": "ipython",
    "version": 3
   },
   "file_extension": ".py",
   "mimetype": "text/x-python",
   "name": "python",
   "nbconvert_exporter": "python",
   "pygments_lexer": "ipython3",
   "version": "3.13.3"
  }
 },
 "nbformat": 4,
 "nbformat_minor": 5
}
